{
 "cells": [
  {
   "cell_type": "markdown",
   "id": "6113c799",
   "metadata": {},
   "source": [
    "## LabelEncoder\n",
    " * class sklearn.preprocessing.LabelEncoder\n",
    " * Attributes : classes_, Holds the label for each class.\n",
    " * Method : fit, fit_transform, get_params, inverse_transform, set_params, transform"
   ]
  },
  {
   "cell_type": "code",
   "execution_count": 6,
   "id": "dd14c4f8",
   "metadata": {
    "ExecuteTime": {
     "end_time": "2022-06-30T23:36:56.148263Z",
     "start_time": "2022-06-30T23:36:55.926570Z"
    }
   },
   "outputs": [
    {
     "name": "stdout",
     "output_type": "stream",
     "text": [
      "인코딩 변환값: [0 1 4 5 3 3 2 2]\n"
     ]
    }
   ],
   "source": [
    "from sklearn.preprocessing import LabelEncoder\n",
    "\n",
    "items = ['TV','냉장고','전자렌지','컴퓨터','선풍기','선풍기','믹서','믹서']\n",
    "\n",
    "encoder = LabelEncoder()\n",
    "encoder.fit(items)\n",
    "labels = encoder.transform(items)\n",
    "print('인코딩 변환값:', labels)"
   ]
  },
  {
   "cell_type": "code",
   "execution_count": 7,
   "id": "5e2ccd85",
   "metadata": {
    "ExecuteTime": {
     "end_time": "2022-06-30T23:36:58.786607Z",
     "start_time": "2022-06-30T23:36:58.773964Z"
    }
   },
   "outputs": [
    {
     "name": "stdout",
     "output_type": "stream",
     "text": [
      "인코딩 클래스: ['TV' '냉장고' '믹서' '선풍기' '전자렌지' '컴퓨터']\n"
     ]
    }
   ],
   "source": [
    "print('인코딩 클래스:', encoder.classes_) # 속성(클래스)에는 인코딩 전의 데이터를 출력한다."
   ]
  },
  {
   "cell_type": "code",
   "execution_count": 11,
   "id": "df92dcce",
   "metadata": {
    "ExecuteTime": {
     "end_time": "2022-06-30T23:37:44.546989Z",
     "start_time": "2022-06-30T23:37:44.516460Z"
    }
   },
   "outputs": [
    {
     "name": "stdout",
     "output_type": "stream",
     "text": [
      "디코딩 원본 값: ['전자렌지' '컴퓨터' '믹서' 'TV' '냉장고' '냉장고' '선풍기' '선풍기']\n"
     ]
    }
   ],
   "source": [
    "print('디코딩 원본 값:', encoder.inverse_transform([4,5,2,0,1,1,3,3]))# inverse_transform Method -> decoding"
   ]
  },
  {
   "cell_type": "markdown",
   "id": "b0b7544e",
   "metadata": {},
   "source": [
    "## Titanic preprocessing\n",
    "판다스를 이용해서 csv 읽어 오기\n",
    "•필요한 칼러만 남기고 dropt\n",
    "•fillna를 활용하여 결측치 처리(mean)\n",
    "•LabelEncoder를 활용하여 인코딩"
   ]
  },
  {
   "cell_type": "code",
   "execution_count": 134,
   "id": "ee7b5bf5",
   "metadata": {
    "ExecuteTime": {
     "end_time": "2022-07-01T04:30:46.362637Z",
     "start_time": "2022-07-01T04:30:46.291126Z"
    }
   },
   "outputs": [
    {
     "data": {
      "text/html": [
       "<div>\n",
       "<style scoped>\n",
       "    .dataframe tbody tr th:only-of-type {\n",
       "        vertical-align: middle;\n",
       "    }\n",
       "\n",
       "    .dataframe tbody tr th {\n",
       "        vertical-align: top;\n",
       "    }\n",
       "\n",
       "    .dataframe thead th {\n",
       "        text-align: right;\n",
       "    }\n",
       "</style>\n",
       "<table border=\"1\" class=\"dataframe\">\n",
       "  <thead>\n",
       "    <tr style=\"text-align: right;\">\n",
       "      <th></th>\n",
       "      <th>PassengerId</th>\n",
       "      <th>Survived</th>\n",
       "      <th>Pclass</th>\n",
       "      <th>Name</th>\n",
       "      <th>Sex</th>\n",
       "      <th>Age</th>\n",
       "      <th>SibSp</th>\n",
       "      <th>Parch</th>\n",
       "      <th>Ticket</th>\n",
       "      <th>Fare</th>\n",
       "      <th>Cabin</th>\n",
       "      <th>Embarked</th>\n",
       "    </tr>\n",
       "  </thead>\n",
       "  <tbody>\n",
       "    <tr>\n",
       "      <th>0</th>\n",
       "      <td>1</td>\n",
       "      <td>0</td>\n",
       "      <td>3</td>\n",
       "      <td>Braund, Mr. Owen Harris</td>\n",
       "      <td>male</td>\n",
       "      <td>22.0</td>\n",
       "      <td>1</td>\n",
       "      <td>0</td>\n",
       "      <td>A/5 21171</td>\n",
       "      <td>7.2500</td>\n",
       "      <td>NaN</td>\n",
       "      <td>S</td>\n",
       "    </tr>\n",
       "    <tr>\n",
       "      <th>1</th>\n",
       "      <td>2</td>\n",
       "      <td>1</td>\n",
       "      <td>1</td>\n",
       "      <td>Cumings, Mrs. John Bradley (Florence Briggs Th...</td>\n",
       "      <td>female</td>\n",
       "      <td>38.0</td>\n",
       "      <td>1</td>\n",
       "      <td>0</td>\n",
       "      <td>PC 17599</td>\n",
       "      <td>71.2833</td>\n",
       "      <td>C85</td>\n",
       "      <td>C</td>\n",
       "    </tr>\n",
       "    <tr>\n",
       "      <th>2</th>\n",
       "      <td>3</td>\n",
       "      <td>1</td>\n",
       "      <td>3</td>\n",
       "      <td>Heikkinen, Miss. Laina</td>\n",
       "      <td>female</td>\n",
       "      <td>26.0</td>\n",
       "      <td>0</td>\n",
       "      <td>0</td>\n",
       "      <td>STON/O2. 3101282</td>\n",
       "      <td>7.9250</td>\n",
       "      <td>NaN</td>\n",
       "      <td>S</td>\n",
       "    </tr>\n",
       "  </tbody>\n",
       "</table>\n",
       "</div>"
      ],
      "text/plain": [
       "   PassengerId  Survived  Pclass  ...     Fare Cabin  Embarked\n",
       "0            1         0       3  ...   7.2500   NaN         S\n",
       "1            2         1       1  ...  71.2833   C85         C\n",
       "2            3         1       3  ...   7.9250   NaN         S\n",
       "\n",
       "[3 rows x 12 columns]"
      ]
     },
     "execution_count": 134,
     "metadata": {},
     "output_type": "execute_result"
    }
   ],
   "source": [
    "import pandas as pd\n",
    "\n",
    "tatanic_df = pd.read_csv('./titanic_train.csv')\n",
    "tatanic_df.head(3)"
   ]
  },
  {
   "cell_type": "code",
   "execution_count": 135,
   "id": "eb78c713",
   "metadata": {
    "ExecuteTime": {
     "end_time": "2022-07-01T04:30:47.029540Z",
     "start_time": "2022-07-01T04:30:47.021313Z"
    }
   },
   "outputs": [],
   "source": [
    "tatanic_df.drop(columns = ['PassengerId','Pclass','Name','SibSp','Parch','Ticket','Fare','Cabin'], inplace=True)"
   ]
  },
  {
   "cell_type": "code",
   "execution_count": 136,
   "id": "2fd77680",
   "metadata": {
    "ExecuteTime": {
     "end_time": "2022-07-01T04:30:48.656668Z",
     "start_time": "2022-07-01T04:30:48.631277Z"
    },
    "scrolled": true
   },
   "outputs": [
    {
     "name": "stdout",
     "output_type": "stream",
     "text": [
      "<class 'pandas.core.frame.DataFrame'>\n",
      "RangeIndex: 891 entries, 0 to 890\n",
      "Data columns (total 4 columns):\n",
      " #   Column    Non-Null Count  Dtype  \n",
      "---  ------    --------------  -----  \n",
      " 0   Survived  891 non-null    int64  \n",
      " 1   Sex       891 non-null    object \n",
      " 2   Age       714 non-null    float64\n",
      " 3   Embarked  889 non-null    object \n",
      "dtypes: float64(1), int64(1), object(2)\n",
      "memory usage: 28.0+ KB\n"
     ]
    }
   ],
   "source": [
    "tatanic_df.info()"
   ]
  },
  {
   "cell_type": "code",
   "execution_count": 137,
   "id": "fd4ca094",
   "metadata": {
    "ExecuteTime": {
     "end_time": "2022-07-01T04:30:52.046266Z",
     "start_time": "2022-07-01T04:30:52.039348Z"
    }
   },
   "outputs": [],
   "source": [
    "tatanic_df['Age'] = tatanic_df['Age'].fillna(df['Age'].mean())\n",
    "tatanic_df['Embarked'] = tatanic_df['Embarked'].fillna('S')"
   ]
  },
  {
   "cell_type": "code",
   "execution_count": 132,
   "id": "82200214",
   "metadata": {
    "ExecuteTime": {
     "end_time": "2022-07-01T04:30:37.846514Z",
     "start_time": "2022-07-01T04:30:37.827520Z"
    },
    "scrolled": false
   },
   "outputs": [
    {
     "data": {
      "text/plain": [
       "Survived    0\n",
       "Sex         0\n",
       "Age         0\n",
       "Embarked    0\n",
       "dtype: int64"
      ]
     },
     "execution_count": 132,
     "metadata": {},
     "output_type": "execute_result"
    }
   ],
   "source": [
    "tatanic_df.isna().sum()"
   ]
  },
  {
   "cell_type": "code",
   "execution_count": 133,
   "id": "bd211468",
   "metadata": {
    "ExecuteTime": {
     "end_time": "2022-07-01T04:30:38.506753Z",
     "start_time": "2022-07-01T04:30:38.483162Z"
    }
   },
   "outputs": [],
   "source": [
    "encoder = LabelEncoder()\n",
    "tatanic_df['Sex'] = encoder.fit_transform(tatanic_df['Sex'])\n",
    "tatanic_df['Embarked'] = encoder.fit_transform(tatanic_df['Embarked'])"
   ]
  },
  {
   "cell_type": "code",
   "execution_count": 101,
   "id": "8f45221d",
   "metadata": {
    "ExecuteTime": {
     "end_time": "2022-07-01T01:49:26.209533Z",
     "start_time": "2022-07-01T01:49:26.161287Z"
    }
   },
   "outputs": [
    {
     "name": "stdout",
     "output_type": "stream",
     "text": [
      "<class 'pandas.core.frame.DataFrame'>\n",
      "RangeIndex: 891 entries, 0 to 890\n",
      "Data columns (total 4 columns):\n",
      " #   Column    Non-Null Count  Dtype  \n",
      "---  ------    --------------  -----  \n",
      " 0   Survived  891 non-null    int64  \n",
      " 1   Sex       891 non-null    int64  \n",
      " 2   Age       891 non-null    float64\n",
      " 3   Embarked  891 non-null    int64  \n",
      "dtypes: float64(1), int64(3)\n",
      "memory usage: 28.0 KB\n"
     ]
    }
   ],
   "source": [
    "tatanic_df.info()"
   ]
  },
  {
   "cell_type": "markdown",
   "id": "078d843d",
   "metadata": {},
   "source": [
    "## OneHotEncoder\n",
    " * OneHotEncoder(*, categories='auto', drop=None, sparse=True, dtype=<class 'numpy.float64'>, handle_unknown='error', min_frequency=None, max_categories=None)"
   ]
  },
  {
   "cell_type": "code",
   "execution_count": 107,
   "id": "d5c54772",
   "metadata": {
    "ExecuteTime": {
     "end_time": "2022-07-01T02:23:27.261051Z",
     "start_time": "2022-07-01T02:23:27.114505Z"
    }
   },
   "outputs": [
    {
     "name": "stdout",
     "output_type": "stream",
     "text": [
      "원-핫 인코딩 데이터\n",
      "[[1. 0. 0. 0. 0. 0.]\n",
      " [0. 1. 0. 0. 0. 0.]\n",
      " [0. 0. 0. 0. 1. 0.]\n",
      " [0. 0. 0. 0. 0. 1.]\n",
      " [0. 0. 0. 1. 0. 0.]\n",
      " [0. 0. 0. 1. 0. 0.]\n",
      " [0. 0. 1. 0. 0. 0.]\n",
      " [0. 0. 1. 0. 0. 0.]]\n",
      "원-핫 인코딩 데이터 차원\n",
      "(8, 6)\n"
     ]
    }
   ],
   "source": [
    "from sklearn.preprocessing import OneHotEncoder\n",
    "import numpy as np\n",
    "\n",
    "items = ['TV','냉장고','전자렌지','컴퓨터','선풍기','선풍기','믹서','믹서']\n",
    "encoder = LabelEncoder()\n",
    "encoder.fit(items)\n",
    "labels = encoder.transform(items)\n",
    "\n",
    "labels = labels.reshape(-1,1)\n",
    "\n",
    "oh_encoder = OneHotEncoder()\n",
    "oh_encoder.fit(labels)\n",
    "oh_labels = oh_encoder.transform(labels)\n",
    "print('원-핫 인코딩 데이터')\n",
    "print(oh_labels.toarray())\n",
    "print('원-핫 인코딩 데이터 차원')\n",
    "print(oh_labels.shape)\n"
   ]
  },
  {
   "cell_type": "code",
   "execution_count": 122,
   "id": "abb556e3",
   "metadata": {
    "ExecuteTime": {
     "end_time": "2022-07-01T02:41:14.466497Z",
     "start_time": "2022-07-01T02:41:14.457472Z"
    }
   },
   "outputs": [],
   "source": [
    "one_encoder = OneHotEncoder()\n",
    "# items = item.reshape(-1,1)\n",
    "# np.array(items).reshape(-1,1)\n",
    "items = np.array(items).reshape(-1,1)\n",
    "data = one_encoder.fit_transform(items)"
   ]
  },
  {
   "cell_type": "code",
   "execution_count": 123,
   "id": "5e514715",
   "metadata": {
    "ExecuteTime": {
     "end_time": "2022-07-01T02:41:16.346948Z",
     "start_time": "2022-07-01T02:41:16.329210Z"
    }
   },
   "outputs": [
    {
     "data": {
      "text/plain": [
       "array([[1., 0., 0., 0., 0., 0.],\n",
       "       [0., 1., 0., 0., 0., 0.],\n",
       "       [0., 0., 0., 0., 1., 0.],\n",
       "       [0., 0., 0., 0., 0., 1.],\n",
       "       [0., 0., 0., 1., 0., 0.],\n",
       "       [0., 0., 0., 1., 0., 0.],\n",
       "       [0., 0., 1., 0., 0., 0.],\n",
       "       [0., 0., 1., 0., 0., 0.]])"
      ]
     },
     "execution_count": 123,
     "metadata": {},
     "output_type": "execute_result"
    }
   ],
   "source": [
    "data.toarray()"
   ]
  },
  {
   "cell_type": "code",
   "execution_count": 108,
   "id": "843b5727",
   "metadata": {
    "ExecuteTime": {
     "end_time": "2022-07-01T02:23:28.533165Z",
     "start_time": "2022-07-01T02:23:28.507795Z"
    }
   },
   "outputs": [
    {
     "data": {
      "text/plain": [
       "array([0, 1, 4, 5, 3, 3, 2, 2])"
      ]
     },
     "execution_count": 108,
     "metadata": {},
     "output_type": "execute_result"
    }
   ],
   "source": [
    "encoder.transform(items)"
   ]
  },
  {
   "cell_type": "code",
   "execution_count": 109,
   "id": "c66b8571",
   "metadata": {
    "ExecuteTime": {
     "end_time": "2022-07-01T02:23:47.550830Z",
     "start_time": "2022-07-01T02:23:47.531976Z"
    }
   },
   "outputs": [
    {
     "data": {
      "text/plain": [
       "array([[0],\n",
       "       [1],\n",
       "       [4],\n",
       "       [5],\n",
       "       [3],\n",
       "       [3],\n",
       "       [2],\n",
       "       [2]])"
      ]
     },
     "execution_count": 109,
     "metadata": {},
     "output_type": "execute_result"
    }
   ],
   "source": [
    "labels.reshape(-1,1)"
   ]
  },
  {
   "cell_type": "code",
   "execution_count": 113,
   "id": "dd98ae28",
   "metadata": {
    "ExecuteTime": {
     "end_time": "2022-07-01T02:37:04.498435Z",
     "start_time": "2022-07-01T02:37:04.359037Z"
    }
   },
   "outputs": [
    {
     "data": {
      "text/plain": [
       "array([[1., 1., 1., 1., 1., 1., 1., 1., 1., 1., 1., 1., 1., 1., 1., 1.,\n",
       "        1., 1., 1., 1., 1., 1., 1., 1., 1., 1., 1., 1., 1., 1., 1., 1.,\n",
       "        1., 1., 1., 1., 1., 1., 1., 1., 1., 1., 1., 1., 1., 1., 1., 1.,\n",
       "        1., 1., 1., 1., 1., 1., 1., 1., 1., 1., 1., 1., 1., 1., 1., 1.,\n",
       "        1., 1., 1., 1., 1., 1., 1., 1., 1., 1., 1., 1., 1., 1., 1., 1.,\n",
       "        1., 1., 1., 1., 1., 1., 1., 1., 1., 1., 1., 1., 1., 1., 1., 1.,\n",
       "        1., 1., 1., 1., 1., 1., 1., 1., 1., 1., 1., 1., 1., 1., 1., 1.,\n",
       "        1., 1., 1., 1., 1., 1., 1., 1., 1., 1., 1., 1., 1., 1., 1., 1.,\n",
       "        1., 1., 1., 1., 1., 1., 1., 1., 1., 1., 1., 1., 1., 1., 1., 1.,\n",
       "        1., 1., 1., 1., 1., 1., 1., 1., 1., 1., 1., 1., 1., 1., 1., 1.,\n",
       "        1., 1., 1., 1., 1., 1., 1., 1., 1., 1., 1., 1., 1., 1., 1., 1.,\n",
       "        1., 1., 1., 1., 1., 1., 1., 1., 1., 1., 1., 1., 1., 1., 1., 1.,\n",
       "        1., 1., 1., 1., 1., 1., 1., 1., 1., 1., 1., 1., 1., 1., 1., 1.,\n",
       "        1., 1., 1., 1., 1., 1., 1., 1., 1., 1., 1., 1., 1., 1., 1., 1.,\n",
       "        1., 1., 1., 1., 1., 1., 1., 1., 1., 1., 1., 1., 1., 1., 1., 1.,\n",
       "        1., 1., 1., 1., 1., 1., 1., 1., 1., 1., 1., 1., 1., 1., 1., 1.,\n",
       "        1., 1., 1., 1., 1., 1., 1., 1., 1., 1., 1., 1., 1., 1., 1., 1.,\n",
       "        1., 1., 1., 1., 1., 1., 1., 1., 1., 1., 1., 1., 1., 1., 1., 1.,\n",
       "        1., 1., 1., 1., 1., 1., 1., 1., 1., 1., 1., 1., 1., 1., 1., 1.,\n",
       "        1., 1., 1., 1., 1., 1., 1., 1., 1., 1., 1., 1., 1., 1., 1., 1.,\n",
       "        1., 1., 1., 1., 1., 1., 1., 1., 1., 1., 1., 1., 1., 1., 1., 1.,\n",
       "        1., 1., 1., 1., 1., 1., 1., 1., 1., 1., 1., 1., 1., 1., 1., 1.,\n",
       "        1., 1., 1., 1., 1., 1., 1., 1., 1., 1., 1., 1., 1., 1., 1., 1.,\n",
       "        1., 1., 1., 1., 1., 1., 1., 1., 1., 1., 1., 1., 1., 1., 1., 1.,\n",
       "        1., 1., 1., 1., 1., 1., 1., 1., 1., 1., 1., 1., 1., 1., 1., 1.,\n",
       "        1., 1., 1., 1., 1., 1., 1., 1., 1., 1., 1., 1., 1., 1., 1., 1.,\n",
       "        1., 1., 1., 1., 1., 1., 1., 1., 1., 1., 1., 1., 1., 1., 1., 1.,\n",
       "        1., 1., 1., 1., 1., 1., 1., 1., 1., 1., 1., 1., 1., 1., 1., 1.,\n",
       "        1., 1., 1., 1., 1., 1., 1., 1., 1., 1., 1., 1., 1., 1., 1., 1.,\n",
       "        1., 1., 1., 1., 1., 1., 1., 1., 1., 1., 1., 1., 1., 1., 1., 1.,\n",
       "        1., 1., 1., 1., 1., 1., 1., 1., 1., 1., 1., 1., 1., 1., 1., 1.,\n",
       "        1., 1., 1., 1., 1., 1., 1., 1., 1., 1., 1., 1., 1., 1., 1., 1.,\n",
       "        1., 1., 1., 1., 1., 1., 1., 1., 1., 1., 1., 1., 1., 1., 1., 1.,\n",
       "        1., 1., 1., 1., 1., 1., 1., 1., 1., 1., 1., 1., 1., 1., 1., 1.,\n",
       "        1., 1., 1., 1., 1., 1., 1., 1., 1., 1., 1., 1., 1., 1., 1., 1.,\n",
       "        1., 1., 1., 1., 1., 1., 1., 1., 1., 1., 1., 1., 1., 1., 1., 1.,\n",
       "        1., 1., 1., 1., 1., 1., 1., 1., 1., 1., 1., 1., 1., 1., 1., 1.,\n",
       "        1., 1., 1., 1., 1., 1., 1., 1., 1., 1., 1., 1., 1., 1., 1., 1.,\n",
       "        1., 1., 1., 1., 1., 1., 1., 1., 1., 1., 1., 1., 1., 1., 1., 1.,\n",
       "        1., 1., 1., 1., 1., 1., 1., 1., 1., 1., 1., 1., 1., 1., 1., 1.,\n",
       "        1., 1., 1., 1., 1., 1., 1., 1., 1., 1., 1., 1., 1., 1., 1., 1.,\n",
       "        1., 1., 1., 1., 1., 1., 1., 1., 1., 1., 1., 1., 1., 1., 1., 1.,\n",
       "        1., 1., 1., 1., 1., 1., 1., 1., 1., 1., 1., 1., 1., 1., 1., 1.,\n",
       "        1., 1., 1., 1., 1., 1., 1., 1., 1., 1., 1., 1., 1., 1., 1., 1.,\n",
       "        1., 1., 1., 1., 1., 1., 1., 1., 1., 1., 1., 1., 1., 1., 1., 1.,\n",
       "        1., 1., 1., 1., 1., 1., 1., 1., 1., 1., 1., 1., 1., 1., 1., 1.,\n",
       "        1., 1., 1., 1., 1., 1., 1., 1., 1., 1., 1., 1., 1., 1., 1., 1.,\n",
       "        1., 1., 1., 1., 1., 1., 1., 1., 1., 1., 1., 1., 1., 1., 1., 1.,\n",
       "        1., 1., 1., 1., 1., 1., 1., 1., 1., 1., 1., 1., 1., 1., 1., 1.,\n",
       "        1., 1., 1., 1., 1., 1., 1., 1., 1., 1., 1., 1., 1., 1., 1., 1.,\n",
       "        1., 1., 1., 1., 1., 1., 1., 1., 1., 1., 1., 1., 1., 1., 1., 1.,\n",
       "        1., 1., 1., 1., 1., 1., 1., 1., 1., 1., 1., 1., 1., 1., 1., 1.,\n",
       "        1., 1., 1., 1., 1., 1., 1., 1., 1., 1., 1., 1., 1., 1., 1., 1.,\n",
       "        1., 1., 1., 1., 1., 1., 1., 1., 1., 1., 1., 1., 1., 1., 1., 1.,\n",
       "        1., 1., 1., 1., 1., 1., 1., 1., 1., 1., 1., 1., 1., 1., 1., 1.,\n",
       "        1., 1., 1., 1., 1., 1., 1., 1., 1., 1., 1.]])"
      ]
     },
     "execution_count": 113,
     "metadata": {},
     "output_type": "execute_result"
    }
   ],
   "source": [
    "df = pd.read_csv('./titanic_train.csv')\n",
    "one_encoder = OneHotEncoder()\n",
    "trans_data = one_encoder.fit_transform([df['Sex']])\n",
    "trans_data.toarray()"
   ]
  },
  {
   "cell_type": "markdown",
   "id": "5753b87d",
   "metadata": {},
   "source": [
    "### pandas.get.dummies\n",
    " * pandas.get_dummies(data, prefix=None, prefix_sep='_', dummy_na=False, columns=None, sparse=False, drop_first=False, dtype=None)"
   ]
  },
  {
   "cell_type": "code",
   "execution_count": 139,
   "id": "5d2546e6",
   "metadata": {
    "ExecuteTime": {
     "end_time": "2022-07-01T04:31:54.221192Z",
     "start_time": "2022-07-01T04:31:54.199444Z"
    }
   },
   "outputs": [],
   "source": [
    "tatanic_df.loc[:,'Embarked']"
   ]
  },
  {
   "cell_type": "code",
   "execution_count": 143,
   "id": "bf30e575",
   "metadata": {
    "ExecuteTime": {
     "end_time": "2022-07-01T04:34:40.805486Z",
     "start_time": "2022-07-01T04:34:40.605450Z"
    }
   },
   "outputs": [
    {
     "data": {
      "text/html": [
       "<div>\n",
       "<style scoped>\n",
       "    .dataframe tbody tr th:only-of-type {\n",
       "        vertical-align: middle;\n",
       "    }\n",
       "\n",
       "    .dataframe tbody tr th {\n",
       "        vertical-align: top;\n",
       "    }\n",
       "\n",
       "    .dataframe thead th {\n",
       "        text-align: right;\n",
       "    }\n",
       "</style>\n",
       "<table border=\"1\" class=\"dataframe\">\n",
       "  <thead>\n",
       "    <tr style=\"text-align: right;\">\n",
       "      <th></th>\n",
       "      <th>C</th>\n",
       "      <th>Q</th>\n",
       "      <th>S</th>\n",
       "    </tr>\n",
       "  </thead>\n",
       "  <tbody>\n",
       "    <tr>\n",
       "      <th>0</th>\n",
       "      <td>0</td>\n",
       "      <td>0</td>\n",
       "      <td>1</td>\n",
       "    </tr>\n",
       "    <tr>\n",
       "      <th>1</th>\n",
       "      <td>1</td>\n",
       "      <td>0</td>\n",
       "      <td>0</td>\n",
       "    </tr>\n",
       "    <tr>\n",
       "      <th>2</th>\n",
       "      <td>0</td>\n",
       "      <td>0</td>\n",
       "      <td>1</td>\n",
       "    </tr>\n",
       "    <tr>\n",
       "      <th>3</th>\n",
       "      <td>0</td>\n",
       "      <td>0</td>\n",
       "      <td>1</td>\n",
       "    </tr>\n",
       "    <tr>\n",
       "      <th>4</th>\n",
       "      <td>0</td>\n",
       "      <td>0</td>\n",
       "      <td>1</td>\n",
       "    </tr>\n",
       "    <tr>\n",
       "      <th>...</th>\n",
       "      <td>...</td>\n",
       "      <td>...</td>\n",
       "      <td>...</td>\n",
       "    </tr>\n",
       "    <tr>\n",
       "      <th>886</th>\n",
       "      <td>0</td>\n",
       "      <td>0</td>\n",
       "      <td>1</td>\n",
       "    </tr>\n",
       "    <tr>\n",
       "      <th>887</th>\n",
       "      <td>0</td>\n",
       "      <td>0</td>\n",
       "      <td>1</td>\n",
       "    </tr>\n",
       "    <tr>\n",
       "      <th>888</th>\n",
       "      <td>0</td>\n",
       "      <td>0</td>\n",
       "      <td>1</td>\n",
       "    </tr>\n",
       "    <tr>\n",
       "      <th>889</th>\n",
       "      <td>1</td>\n",
       "      <td>0</td>\n",
       "      <td>0</td>\n",
       "    </tr>\n",
       "    <tr>\n",
       "      <th>890</th>\n",
       "      <td>0</td>\n",
       "      <td>1</td>\n",
       "      <td>0</td>\n",
       "    </tr>\n",
       "  </tbody>\n",
       "</table>\n",
       "<p>891 rows × 3 columns</p>\n",
       "</div>"
      ],
      "text/plain": [
       "     C  Q  S\n",
       "0    0  0  1\n",
       "1    1  0  0\n",
       "2    0  0  1\n",
       "3    0  0  1\n",
       "4    0  0  1\n",
       "..  .. .. ..\n",
       "886  0  0  1\n",
       "887  0  0  1\n",
       "888  0  0  1\n",
       "889  1  0  0\n",
       "890  0  1  0\n",
       "\n",
       "[891 rows x 3 columns]"
      ]
     },
     "execution_count": 143,
     "metadata": {},
     "output_type": "execute_result"
    }
   ],
   "source": [
    "pd.get_dummies(tatanic_df.loc[:,'Embarked'])"
   ]
  },
  {
   "cell_type": "code",
   "execution_count": 145,
   "id": "b3886f88",
   "metadata": {
    "ExecuteTime": {
     "end_time": "2022-07-01T04:36:07.156863Z",
     "start_time": "2022-07-01T04:36:07.102501Z"
    }
   },
   "outputs": [],
   "source": [
    "dummies_data = pd.get_dummies(df[['Sex', 'Embarked']])"
   ]
  },
  {
   "cell_type": "code",
   "execution_count": 153,
   "id": "ce0793d9",
   "metadata": {
    "ExecuteTime": {
     "end_time": "2022-07-01T04:40:27.969491Z",
     "start_time": "2022-07-01T04:40:27.913151Z"
    }
   },
   "outputs": [
    {
     "data": {
      "text/html": [
       "<div>\n",
       "<style scoped>\n",
       "    .dataframe tbody tr th:only-of-type {\n",
       "        vertical-align: middle;\n",
       "    }\n",
       "\n",
       "    .dataframe tbody tr th {\n",
       "        vertical-align: top;\n",
       "    }\n",
       "\n",
       "    .dataframe thead th {\n",
       "        text-align: right;\n",
       "    }\n",
       "</style>\n",
       "<table border=\"1\" class=\"dataframe\">\n",
       "  <thead>\n",
       "    <tr style=\"text-align: right;\">\n",
       "      <th></th>\n",
       "      <th>Survived</th>\n",
       "      <th>Age</th>\n",
       "      <th>Sex_female</th>\n",
       "      <th>Sex_male</th>\n",
       "      <th>Embarked_C</th>\n",
       "      <th>Embarked_Q</th>\n",
       "      <th>Embarked_S</th>\n",
       "    </tr>\n",
       "  </thead>\n",
       "  <tbody>\n",
       "    <tr>\n",
       "      <th>0</th>\n",
       "      <td>0</td>\n",
       "      <td>22.000000</td>\n",
       "      <td>0</td>\n",
       "      <td>1</td>\n",
       "      <td>0</td>\n",
       "      <td>0</td>\n",
       "      <td>1</td>\n",
       "    </tr>\n",
       "    <tr>\n",
       "      <th>1</th>\n",
       "      <td>1</td>\n",
       "      <td>38.000000</td>\n",
       "      <td>1</td>\n",
       "      <td>0</td>\n",
       "      <td>1</td>\n",
       "      <td>0</td>\n",
       "      <td>0</td>\n",
       "    </tr>\n",
       "    <tr>\n",
       "      <th>2</th>\n",
       "      <td>1</td>\n",
       "      <td>26.000000</td>\n",
       "      <td>1</td>\n",
       "      <td>0</td>\n",
       "      <td>0</td>\n",
       "      <td>0</td>\n",
       "      <td>1</td>\n",
       "    </tr>\n",
       "    <tr>\n",
       "      <th>3</th>\n",
       "      <td>1</td>\n",
       "      <td>35.000000</td>\n",
       "      <td>1</td>\n",
       "      <td>0</td>\n",
       "      <td>0</td>\n",
       "      <td>0</td>\n",
       "      <td>1</td>\n",
       "    </tr>\n",
       "    <tr>\n",
       "      <th>4</th>\n",
       "      <td>0</td>\n",
       "      <td>35.000000</td>\n",
       "      <td>0</td>\n",
       "      <td>1</td>\n",
       "      <td>0</td>\n",
       "      <td>0</td>\n",
       "      <td>1</td>\n",
       "    </tr>\n",
       "    <tr>\n",
       "      <th>...</th>\n",
       "      <td>...</td>\n",
       "      <td>...</td>\n",
       "      <td>...</td>\n",
       "      <td>...</td>\n",
       "      <td>...</td>\n",
       "      <td>...</td>\n",
       "      <td>...</td>\n",
       "    </tr>\n",
       "    <tr>\n",
       "      <th>886</th>\n",
       "      <td>0</td>\n",
       "      <td>27.000000</td>\n",
       "      <td>0</td>\n",
       "      <td>1</td>\n",
       "      <td>0</td>\n",
       "      <td>0</td>\n",
       "      <td>1</td>\n",
       "    </tr>\n",
       "    <tr>\n",
       "      <th>887</th>\n",
       "      <td>1</td>\n",
       "      <td>19.000000</td>\n",
       "      <td>1</td>\n",
       "      <td>0</td>\n",
       "      <td>0</td>\n",
       "      <td>0</td>\n",
       "      <td>1</td>\n",
       "    </tr>\n",
       "    <tr>\n",
       "      <th>888</th>\n",
       "      <td>0</td>\n",
       "      <td>29.699118</td>\n",
       "      <td>1</td>\n",
       "      <td>0</td>\n",
       "      <td>0</td>\n",
       "      <td>0</td>\n",
       "      <td>1</td>\n",
       "    </tr>\n",
       "    <tr>\n",
       "      <th>889</th>\n",
       "      <td>1</td>\n",
       "      <td>26.000000</td>\n",
       "      <td>0</td>\n",
       "      <td>1</td>\n",
       "      <td>1</td>\n",
       "      <td>0</td>\n",
       "      <td>0</td>\n",
       "    </tr>\n",
       "    <tr>\n",
       "      <th>890</th>\n",
       "      <td>0</td>\n",
       "      <td>32.000000</td>\n",
       "      <td>0</td>\n",
       "      <td>1</td>\n",
       "      <td>0</td>\n",
       "      <td>1</td>\n",
       "      <td>0</td>\n",
       "    </tr>\n",
       "  </tbody>\n",
       "</table>\n",
       "<p>891 rows × 7 columns</p>\n",
       "</div>"
      ],
      "text/plain": [
       "     Survived        Age  Sex_female  ...  Embarked_C  Embarked_Q  Embarked_S\n",
       "0           0  22.000000           0  ...           0           0           1\n",
       "1           1  38.000000           1  ...           1           0           0\n",
       "2           1  26.000000           1  ...           0           0           1\n",
       "3           1  35.000000           1  ...           0           0           1\n",
       "4           0  35.000000           0  ...           0           0           1\n",
       "..        ...        ...         ...  ...         ...         ...         ...\n",
       "886         0  27.000000           0  ...           0           0           1\n",
       "887         1  19.000000           1  ...           0           0           1\n",
       "888         0  29.699118           1  ...           0           0           1\n",
       "889         1  26.000000           0  ...           1           0           0\n",
       "890         0  32.000000           0  ...           0           1           0\n",
       "\n",
       "[891 rows x 7 columns]"
      ]
     },
     "execution_count": 153,
     "metadata": {},
     "output_type": "execute_result"
    }
   ],
   "source": [
    "# pandas를 이용하여 One-Hot Encoding처럼 데이터를 변형시켜준다.\n",
    "# Age를 0과 1사이의 숫자로 스케일링 하여 학습함의 왜곡됨을 바꾼다. > 표준화한다.\n",
    "pd.concat([tatanic_df, dummies_data], axis= 1).drop(columns = ['Sex','Embarked'])"
   ]
  },
  {
   "cell_type": "markdown",
   "id": "24f9e166",
   "metadata": {},
   "source": [
    "## StandardScaler\n",
    "* StandardScaler(*, copy=True, with_mean=True, with_std=True)"
   ]
  },
  {
   "cell_type": "code",
   "execution_count": 193,
   "id": "e9e67194",
   "metadata": {
    "ExecuteTime": {
     "end_time": "2022-07-01T07:28:38.678254Z",
     "start_time": "2022-07-01T07:28:37.904848Z"
    }
   },
   "outputs": [
    {
     "name": "stdout",
     "output_type": "stream",
     "text": [
      "feature 들의 평균 값\n",
      "sepal length (cm)    5.843333\n",
      "sepal width (cm)     3.057333\n",
      "petal length (cm)    3.758000\n",
      "petal width (cm)     1.199333\n",
      "dtype: float64\n",
      "\n",
      "feature 들의 분산 값\n",
      "sepal length (cm)    0.685694\n",
      "sepal width (cm)     0.189979\n",
      "petal length (cm)    3.116278\n",
      "petal width (cm)     0.581006\n",
      "dtype: float64\n"
     ]
    }
   ],
   "source": [
    "from sklearn.datasets import load_iris\n",
    "import pandas as pd\n",
    "\n",
    "# 붓꽃 데이터 셋을 로딩하고 DataFrame으로 변환\n",
    "iris = load_iris()\n",
    "iris_data = iris.data\n",
    "iris_df = pd.DataFrame(data=iris_data, columns=iris.feature_names)\n",
    "\n",
    "print('feature 들의 평균 값')\n",
    "print(iris_df.mean())\n",
    "print('\\nfeature 들의 분산 값')\n",
    "print(iris_df.var())"
   ]
  },
  {
   "cell_type": "code",
   "execution_count": 195,
   "id": "da15fb5f",
   "metadata": {
    "ExecuteTime": {
     "end_time": "2022-07-01T07:57:01.847753Z",
     "start_time": "2022-07-01T07:57:01.800565Z"
    }
   },
   "outputs": [
    {
     "data": {
      "text/plain": [
       "['sepal length (cm)',\n",
       " 'sepal width (cm)',\n",
       " 'petal length (cm)',\n",
       " 'petal width (cm)']"
      ]
     },
     "execution_count": 195,
     "metadata": {},
     "output_type": "execute_result"
    }
   ],
   "source": [
    "iris.feature_names"
   ]
  },
  {
   "cell_type": "markdown",
   "id": "ff64538b",
   "metadata": {},
   "source": [
    "### reconfirm"
   ]
  },
  {
   "cell_type": "code",
   "execution_count": 180,
   "id": "471804c9",
   "metadata": {
    "ExecuteTime": {
     "end_time": "2022-07-01T06:50:29.961819Z",
     "start_time": "2022-07-01T06:50:29.824519Z"
    }
   },
   "outputs": [
    {
     "name": "stdout",
     "output_type": "stream",
     "text": [
      "feature 들의 평균 값\n",
      "sepal length (cm)   -1.690315e-15\n",
      "sepal width (cm)    -1.842970e-15\n",
      "petal length (cm)   -1.698641e-15\n",
      "petal width (cm)    -1.409243e-15\n",
      "dtype: float64\n",
      "\n",
      "feature 들의 분산 값\n",
      "sepal length (cm)    1.006711\n",
      "sepal width (cm)     1.006711\n",
      "petal length (cm)    1.006711\n",
      "petal width (cm)     1.006711\n",
      "dtype: float64\n",
      "\n",
      "feature 들의 표준편차 값\n",
      "sepal length (cm)    1.00335\n",
      "sepal width (cm)     1.00335\n",
      "petal length (cm)    1.00335\n",
      "petal width (cm)     1.00335\n",
      "dtype: float64\n"
     ]
    }
   ],
   "source": [
    "from sklearn.preprocessing import StandardScaler\n",
    "\n",
    "# StandardScaler 객체 생성\n",
    "scaler = StandardScaler() # for을 사용할 필요 없이 표준화 가능한 라이브러리\n",
    "\n",
    "scaler.fit(iris_df)\n",
    "iris_scaled = scaler.transform(iris_df)\n",
    "\n",
    "iris_df_scaled = pd.DataFrame(data=iris_scaled, columns=iris.feature_names)\n",
    "print('feature 들의 평균 값') # 0에 가까운값들이다.\n",
    "print(iris_df_scaled.mean())\n",
    "print('\\nfeature 들의 분산 값') # 1에 가까운값들이다.\n",
    "print(iris_df_scaled.var())\n",
    "print('\\nfeature 들의 표준편차 값')\n",
    "print(iris_df_scaled.std())"
   ]
  },
  {
   "cell_type": "markdown",
   "id": "1287636d",
   "metadata": {},
   "source": [
    "## MinMaxScaler\n",
    "* class sklearn.preprocessing.MinMaxScaler(feature_range=(0, 1), *, copy=True, clip=False)"
   ]
  },
  {
   "cell_type": "code",
   "execution_count": 192,
   "id": "61df0ec7",
   "metadata": {
    "ExecuteTime": {
     "end_time": "2022-07-01T07:20:02.788726Z",
     "start_time": "2022-07-01T07:20:02.719620Z"
    }
   },
   "outputs": [
    {
     "name": "stdout",
     "output_type": "stream",
     "text": [
      "feature 들의 최소 값\n",
      "sepal length (cm)    0.0\n",
      "sepal width (cm)     0.0\n",
      "petal length (cm)    0.0\n",
      "petal width (cm)     0.0\n",
      "dtype: float64\n",
      "\n",
      "feature 들의 최대 값\n",
      "sepal length (cm)    1.0\n",
      "sepal width (cm)     1.0\n",
      "petal length (cm)    1.0\n",
      "petal width (cm)     1.0\n",
      "dtype: float64\n"
     ]
    },
    {
     "data": {
      "text/html": [
       "<div>\n",
       "<style scoped>\n",
       "    .dataframe tbody tr th:only-of-type {\n",
       "        vertical-align: middle;\n",
       "    }\n",
       "\n",
       "    .dataframe tbody tr th {\n",
       "        vertical-align: top;\n",
       "    }\n",
       "\n",
       "    .dataframe thead th {\n",
       "        text-align: right;\n",
       "    }\n",
       "</style>\n",
       "<table border=\"1\" class=\"dataframe\">\n",
       "  <thead>\n",
       "    <tr style=\"text-align: right;\">\n",
       "      <th></th>\n",
       "      <th>sepal length (cm)</th>\n",
       "      <th>sepal width (cm)</th>\n",
       "      <th>petal length (cm)</th>\n",
       "      <th>petal width (cm)</th>\n",
       "    </tr>\n",
       "  </thead>\n",
       "  <tbody>\n",
       "    <tr>\n",
       "      <th>0</th>\n",
       "      <td>0.222222</td>\n",
       "      <td>0.625000</td>\n",
       "      <td>0.067797</td>\n",
       "      <td>0.041667</td>\n",
       "    </tr>\n",
       "    <tr>\n",
       "      <th>1</th>\n",
       "      <td>0.166667</td>\n",
       "      <td>0.416667</td>\n",
       "      <td>0.067797</td>\n",
       "      <td>0.041667</td>\n",
       "    </tr>\n",
       "    <tr>\n",
       "      <th>2</th>\n",
       "      <td>0.111111</td>\n",
       "      <td>0.500000</td>\n",
       "      <td>0.050847</td>\n",
       "      <td>0.041667</td>\n",
       "    </tr>\n",
       "    <tr>\n",
       "      <th>3</th>\n",
       "      <td>0.083333</td>\n",
       "      <td>0.458333</td>\n",
       "      <td>0.084746</td>\n",
       "      <td>0.041667</td>\n",
       "    </tr>\n",
       "    <tr>\n",
       "      <th>4</th>\n",
       "      <td>0.194444</td>\n",
       "      <td>0.666667</td>\n",
       "      <td>0.067797</td>\n",
       "      <td>0.041667</td>\n",
       "    </tr>\n",
       "    <tr>\n",
       "      <th>...</th>\n",
       "      <td>...</td>\n",
       "      <td>...</td>\n",
       "      <td>...</td>\n",
       "      <td>...</td>\n",
       "    </tr>\n",
       "    <tr>\n",
       "      <th>145</th>\n",
       "      <td>0.666667</td>\n",
       "      <td>0.416667</td>\n",
       "      <td>0.711864</td>\n",
       "      <td>0.916667</td>\n",
       "    </tr>\n",
       "    <tr>\n",
       "      <th>146</th>\n",
       "      <td>0.555556</td>\n",
       "      <td>0.208333</td>\n",
       "      <td>0.677966</td>\n",
       "      <td>0.750000</td>\n",
       "    </tr>\n",
       "    <tr>\n",
       "      <th>147</th>\n",
       "      <td>0.611111</td>\n",
       "      <td>0.416667</td>\n",
       "      <td>0.711864</td>\n",
       "      <td>0.791667</td>\n",
       "    </tr>\n",
       "    <tr>\n",
       "      <th>148</th>\n",
       "      <td>0.527778</td>\n",
       "      <td>0.583333</td>\n",
       "      <td>0.745763</td>\n",
       "      <td>0.916667</td>\n",
       "    </tr>\n",
       "    <tr>\n",
       "      <th>149</th>\n",
       "      <td>0.444444</td>\n",
       "      <td>0.416667</td>\n",
       "      <td>0.694915</td>\n",
       "      <td>0.708333</td>\n",
       "    </tr>\n",
       "  </tbody>\n",
       "</table>\n",
       "<p>150 rows × 4 columns</p>\n",
       "</div>"
      ],
      "text/plain": [
       "     sepal length (cm)  sepal width (cm)  petal length (cm)  petal width (cm)\n",
       "0             0.222222          0.625000           0.067797          0.041667\n",
       "1             0.166667          0.416667           0.067797          0.041667\n",
       "2             0.111111          0.500000           0.050847          0.041667\n",
       "3             0.083333          0.458333           0.084746          0.041667\n",
       "4             0.194444          0.666667           0.067797          0.041667\n",
       "..                 ...               ...                ...               ...\n",
       "145           0.666667          0.416667           0.711864          0.916667\n",
       "146           0.555556          0.208333           0.677966          0.750000\n",
       "147           0.611111          0.416667           0.711864          0.791667\n",
       "148           0.527778          0.583333           0.745763          0.916667\n",
       "149           0.444444          0.416667           0.694915          0.708333\n",
       "\n",
       "[150 rows x 4 columns]"
      ]
     },
     "execution_count": 192,
     "metadata": {},
     "output_type": "execute_result"
    }
   ],
   "source": [
    "from sklearn.preprocessing import MinMaxScaler\n",
    "\n",
    "mscaler = MinMaxScaler()\n",
    "mscaler.fit(iris_df)\n",
    "iris_mscaled = mscaler.transform(iris_df)\n",
    "iris_df_mscaled = pd.DataFrame(data=iris_mscaled, columns=iris.feature_names)\n",
    "print('feature 들의 최소 값')\n",
    "print(iris_df_mscaled.min())\n",
    "print('\\nfeature 들의 최대 값')\n",
    "print(iris_df_mscaled.max())\n",
    "iris_df_mscaled\n"
   ]
  },
  {
   "cell_type": "markdown",
   "id": "693ef93d",
   "metadata": {},
   "source": [
    "## RobustScaler\n",
    " * RobustScaler(*, with_centering=True, with_scaling=True, quantile_range=(25.0, 75.0), copy=True, unit_variance=False)"
   ]
  },
  {
   "cell_type": "code",
   "execution_count": 191,
   "id": "489609d3",
   "metadata": {
    "ExecuteTime": {
     "end_time": "2022-07-01T07:19:39.912654Z",
     "start_time": "2022-07-01T07:19:39.671574Z"
    }
   },
   "outputs": [
    {
     "data": {
      "text/html": [
       "<div>\n",
       "<style scoped>\n",
       "    .dataframe tbody tr th:only-of-type {\n",
       "        vertical-align: middle;\n",
       "    }\n",
       "\n",
       "    .dataframe tbody tr th {\n",
       "        vertical-align: top;\n",
       "    }\n",
       "\n",
       "    .dataframe thead th {\n",
       "        text-align: right;\n",
       "    }\n",
       "</style>\n",
       "<table border=\"1\" class=\"dataframe\">\n",
       "  <thead>\n",
       "    <tr style=\"text-align: right;\">\n",
       "      <th></th>\n",
       "      <th>sepal length (cm)</th>\n",
       "      <th>sepal width (cm)</th>\n",
       "      <th>petal length (cm)</th>\n",
       "      <th>petal width (cm)</th>\n",
       "    </tr>\n",
       "  </thead>\n",
       "  <tbody>\n",
       "    <tr>\n",
       "      <th>0</th>\n",
       "      <td>-0.538462</td>\n",
       "      <td>1.0</td>\n",
       "      <td>-0.842857</td>\n",
       "      <td>-0.733333</td>\n",
       "    </tr>\n",
       "    <tr>\n",
       "      <th>1</th>\n",
       "      <td>-0.692308</td>\n",
       "      <td>0.0</td>\n",
       "      <td>-0.842857</td>\n",
       "      <td>-0.733333</td>\n",
       "    </tr>\n",
       "    <tr>\n",
       "      <th>2</th>\n",
       "      <td>-0.846154</td>\n",
       "      <td>0.4</td>\n",
       "      <td>-0.871429</td>\n",
       "      <td>-0.733333</td>\n",
       "    </tr>\n",
       "    <tr>\n",
       "      <th>3</th>\n",
       "      <td>-0.923077</td>\n",
       "      <td>0.2</td>\n",
       "      <td>-0.814286</td>\n",
       "      <td>-0.733333</td>\n",
       "    </tr>\n",
       "    <tr>\n",
       "      <th>4</th>\n",
       "      <td>-0.615385</td>\n",
       "      <td>1.2</td>\n",
       "      <td>-0.842857</td>\n",
       "      <td>-0.733333</td>\n",
       "    </tr>\n",
       "    <tr>\n",
       "      <th>...</th>\n",
       "      <td>...</td>\n",
       "      <td>...</td>\n",
       "      <td>...</td>\n",
       "      <td>...</td>\n",
       "    </tr>\n",
       "    <tr>\n",
       "      <th>145</th>\n",
       "      <td>0.692308</td>\n",
       "      <td>0.0</td>\n",
       "      <td>0.242857</td>\n",
       "      <td>0.666667</td>\n",
       "    </tr>\n",
       "    <tr>\n",
       "      <th>146</th>\n",
       "      <td>0.384615</td>\n",
       "      <td>-1.0</td>\n",
       "      <td>0.185714</td>\n",
       "      <td>0.400000</td>\n",
       "    </tr>\n",
       "    <tr>\n",
       "      <th>147</th>\n",
       "      <td>0.538462</td>\n",
       "      <td>0.0</td>\n",
       "      <td>0.242857</td>\n",
       "      <td>0.466667</td>\n",
       "    </tr>\n",
       "    <tr>\n",
       "      <th>148</th>\n",
       "      <td>0.307692</td>\n",
       "      <td>0.8</td>\n",
       "      <td>0.300000</td>\n",
       "      <td>0.666667</td>\n",
       "    </tr>\n",
       "    <tr>\n",
       "      <th>149</th>\n",
       "      <td>0.076923</td>\n",
       "      <td>0.0</td>\n",
       "      <td>0.214286</td>\n",
       "      <td>0.333333</td>\n",
       "    </tr>\n",
       "  </tbody>\n",
       "</table>\n",
       "<p>150 rows × 4 columns</p>\n",
       "</div>"
      ],
      "text/plain": [
       "     sepal length (cm)  sepal width (cm)  petal length (cm)  petal width (cm)\n",
       "0            -0.538462               1.0          -0.842857         -0.733333\n",
       "1            -0.692308               0.0          -0.842857         -0.733333\n",
       "2            -0.846154               0.4          -0.871429         -0.733333\n",
       "3            -0.923077               0.2          -0.814286         -0.733333\n",
       "4            -0.615385               1.2          -0.842857         -0.733333\n",
       "..                 ...               ...                ...               ...\n",
       "145           0.692308               0.0           0.242857          0.666667\n",
       "146           0.384615              -1.0           0.185714          0.400000\n",
       "147           0.538462               0.0           0.242857          0.466667\n",
       "148           0.307692               0.8           0.300000          0.666667\n",
       "149           0.076923               0.0           0.214286          0.333333\n",
       "\n",
       "[150 rows x 4 columns]"
      ]
     },
     "execution_count": 191,
     "metadata": {},
     "output_type": "execute_result"
    }
   ],
   "source": [
    "from sklearn.preprocessing import RobustScaler\n",
    "rbscaler = RobustScaler()\n",
    "rbscaler.fit(iris_df)\n",
    "iris_rbscaled = rbscaler.transform(iris_df)\n",
    "iris_df_rbscaled = pd.DataFrame(data=iris_rbscaled, columns=iris.feature_names)\n",
    "iris_df_rbscaled"
   ]
  },
  {
   "cell_type": "code",
   "execution_count": 194,
   "id": "0e2fa4b8",
   "metadata": {
    "ExecuteTime": {
     "end_time": "2022-07-01T07:28:45.607743Z",
     "start_time": "2022-07-01T07:28:42.647182Z"
    }
   },
   "outputs": [
    {
     "data": {
      "image/png": "[encoded data removed]",
      "text/plain": [
       "<Figure size 1440x360 with 4 Axes>"
      ]
     },
     "metadata": {
      "needs_background": "light"
     },
     "output_type": "display_data"
    }
   ],
   "source": [
    "import matplotlib.pyplot as plt\n",
    "import seaborn as sns\n",
    "fig, (ax1, ax2, ax3, ax4) = plt.subplots(ncols=4, figsize=(20,5))\n",
    "ax1.set_title('Before Scaling')\n",
    "sns.kdeplot(iris_df['sepal length (cm)'], ax = ax1, color = 'r')\n",
    "sns.kdeplot(iris_df['sepal width (cm)'], ax = ax1, color = 'y')\n",
    "sns.kdeplot(iris_df['petal length (cm)'], ax = ax1, color = 'g')\n",
    "sns.kdeplot(iris_df['petal width (cm)'], ax = ax1, color = 'b')\n",
    "\n",
    "ax2.set_title('Standard Scaling')\n",
    "sns.kdeplot(iris_df_scaled['sepal length (cm)'], ax = ax2, color = 'r')\n",
    "sns.kdeplot(iris_df_scaled['sepal width (cm)'], ax = ax2, color = 'y')\n",
    "sns.kdeplot(iris_df_scaled['petal length (cm)'], ax = ax2, color = 'g')\n",
    "sns.kdeplot(iris_df_scaled['petal width (cm)'], ax = ax2, color = 'b')\n",
    "\n",
    "ax3.set_title('MinMax Scaling')\n",
    "sns.kdeplot(iris_df_mscaled['sepal length (cm)'], ax = ax3, color = 'r')\n",
    "sns.kdeplot(iris_df_mscaled['sepal width (cm)'], ax = ax3, color = 'y')\n",
    "sns.kdeplot(iris_df_mscaled['petal length (cm)'], ax = ax3, color = 'g')\n",
    "sns.kdeplot(iris_df_mscaled['petal width (cm)'], ax = ax3, color = 'b')\n",
    "\n",
    "ax4.set_title('Robust Scaling')\n",
    "sns.kdeplot(iris_df_rbscaled['sepal length (cm)'], ax = ax4, color = 'r')\n",
    "sns.kdeplot(iris_df_rbscaled['sepal width (cm)'], ax = ax4, color = 'y')\n",
    "sns.kdeplot(iris_df_rbscaled['petal length (cm)'], ax = ax4, color = 'g')\n",
    "sns.kdeplot(iris_df_rbscaled['petal width (cm)'], ax = ax4, color = 'b')\n",
    "plt.show()"
   ]
  },
  {
   "cell_type": "code",
   "execution_count": null,
   "id": "f6afdabb",
   "metadata": {},
   "outputs": [],
   "source": []
  }
 ],
 "metadata": {
  "kernelspec": {
   "display_name": "Python 3 (ipykernel)",
   "language": "python",
   "name": "python3"
  },
  "language_info": {
   "codemirror_mode": {
    "name": "ipython",
    "version": 3
   },
   "file_extension": ".py",
   "mimetype": "text/x-python",
   "name": "python",
   "nbconvert_exporter": "python",
   "pygments_lexer": "ipython3",
   "version": "3.9.12"
  },
  "toc": {
   "base_numbering": 1,
   "nav_menu": {},
   "number_sections": true,
   "sideBar": true,
   "skip_h1_title": false,
   "title_cell": "Table of Contents",
   "title_sidebar": "Contents",
   "toc_cell": false,
   "toc_position": {},
   "toc_section_display": true,
   "toc_window_display": false
  }
 },
 "nbformat": 4,
 "nbformat_minor": 5
}
