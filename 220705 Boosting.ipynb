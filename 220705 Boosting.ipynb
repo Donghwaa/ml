{
 "cells": [
  {
   "cell_type": "markdown",
   "id": "4e513d4d",
   "metadata": {},
   "source": [
    "# GradientBoostingClassifier\n",
    " * GradientBoostingClassifier(*, loss='log_loss', learning_rate=0.1, n_estimators=100, subsample=1.0, criterion='friedman_mse', min_samples_split=2, min_samples_leaf=1, min_weight_fraction_leaf=0.0, max_depth=3, min_impurity_decrease=0.0, init=None, random_state=None, max_features=None, verbose=0, max_leaf_nodes=None, warm_start=False, validation_fraction=0.1, n_iter_no_change=None, tol=0.0001, ccp_alpha=0.0)"
   ]
  },
  {
   "cell_type": "code",
   "execution_count": 43,
   "id": "d82c5907",
   "metadata": {
    "ExecuteTime": {
     "end_time": "2022-07-05T01:53:27.330700Z",
     "start_time": "2022-07-05T01:53:27.032536Z"
    }
   },
   "outputs": [
    {
     "name": "stdout",
     "output_type": "stream",
     "text": [
      "GBM 정확도: 0.9666666666666667\n"
     ]
    }
   ],
   "source": [
    "from sklearn.ensemble import GradientBoostingClassifier\n",
    "from sklearn.model_selection import train_test_split\n",
    "from sklearn.datasets import load_iris\n",
    "from sklearn.metrics import accuracy_score\n",
    "\n",
    "iris = load_iris()\n",
    "X_train, X_test, y_train, y_test = train_test_split(iris.data, iris.target, \n",
    "                                                    test_size = 0.2, random_state = 1)\n",
    "\n",
    "gb_clf = GradientBoostingClassifier(min_samples_split=2, \n",
    "                                    min_samples_leaf=1, \n",
    "                                    max_depth=3,\n",
    "                                    random_state= 10)# Hyperparameter 조절\n",
    "gb_clf.fit(X_train, y_train)\n",
    "gb_pred = gb_clf.predict(X_test)\n",
    "gb_accuracy = accuracy_score(y_test, gb_pred)\n",
    "\n",
    "print(f'GBM 정확도: {gb_accuracy}')"
   ]
  },
  {
   "cell_type": "markdown",
   "id": "4d788000",
   "metadata": {},
   "source": [
    "## XGB"
   ]
  },
  {
   "cell_type": "code",
   "execution_count": 59,
   "id": "bff6332f",
   "metadata": {
    "ExecuteTime": {
     "end_time": "2022-07-05T02:37:02.930122Z",
     "start_time": "2022-07-05T02:37:02.823644Z"
    }
   },
   "outputs": [
    {
     "data": {
      "text/plain": [
       "0.9666666666666667"
      ]
     },
     "execution_count": 59,
     "metadata": {},
     "output_type": "execute_result"
    }
   ],
   "source": [
    "# Extreme Gradient Boosting (xgboost) 모델 사용\n",
    "import xgboost as xgb\n",
    "from xgboost import XGBClassifier\n",
    "\n",
    "# 1. 모델 선언\n",
    "xgb  = XGBClassifier()\n",
    "\n",
    "# 2. 모델 훈련 fit()함수\n",
    "xgb.fit(X_train, y_train)\n",
    "\n",
    "# 3. 모델 예측 predict()함수\n",
    "y_pred = xgb.predict(X_test)\n",
    "\n",
    "# 4. score()\n",
    "# xgb.score(X_train, y_train)\n",
    "accuracy_score(y_pred, y_test) # GB 보다 빠르다.(298ms)"
   ]
  },
  {
   "cell_type": "code",
   "execution_count": 44,
   "id": "4e0d25e9",
   "metadata": {
    "ExecuteTime": {
     "end_time": "2022-07-05T01:55:16.235805Z",
     "start_time": "2022-07-05T01:55:10.815527Z"
    }
   },
   "outputs": [
    {
     "name": "stdout",
     "output_type": "stream",
     "text": [
      "Fitting 2 folds for each of 4 candidates, totalling 8 fits\n",
      "최적 하이퍼 파라미터:\n",
      " {grid_cv.best_params_}\n",
      "최고 예측 정확도: 0.925\n"
     ]
    }
   ],
   "source": [
    "from sklearn.model_selection import GridSearchCV\n",
    "\n",
    "params = {\n",
    "    'n_estimators' : [100, 500], \n",
    "    'learning_rate' : [0.05, 0.1]\n",
    "}\n",
    "grid_cv = GridSearchCV(gb_clf, param_grid=params, cv=2, verbose=1)\n",
    "grid_cv.fit(X_train, y_train)\n",
    "print('최적 하이퍼 파라미터:\\n {grid_cv.best_params_}')\n",
    "print(f'최고 예측 정확도: {grid_cv.best_score_}') # 시간이 오래 걸린다."
   ]
  },
  {
   "cell_type": "code",
   "execution_count": 46,
   "id": "7ba075ea",
   "metadata": {
    "ExecuteTime": {
     "end_time": "2022-07-05T01:57:14.722223Z",
     "start_time": "2022-07-05T01:57:14.710941Z"
    }
   },
   "outputs": [
    {
     "name": "stdout",
     "output_type": "stream",
     "text": [
      "GBM 정확도: 0.9666666666666667\n"
     ]
    }
   ],
   "source": [
    "gb_pred = grid_cv.best_estimator_.predict(X_test)\n",
    "gb_accuracy = accuracy_score(y_test, gb_pred)\n",
    "print(f'GBM 정확도: {gb_accuracy}')\n",
    "# 예측시간은 Model File로 저장한 모델을 사용해서 오래걸리지 않는다."
   ]
  }
 ],
 "metadata": {
  "kernelspec": {
   "display_name": "Python 3 (ipykernel)",
   "language": "python",
   "name": "python3"
  },
  "language_info": {
   "codemirror_mode": {
    "name": "ipython",
    "version": 3
   },
   "file_extension": ".py",
   "mimetype": "text/x-python",
   "name": "python",
   "nbconvert_exporter": "python",
   "pygments_lexer": "ipython3",
   "version": "3.9.12"
  },
  "toc": {
   "base_numbering": 1,
   "nav_menu": {},
   "number_sections": true,
   "sideBar": true,
   "skip_h1_title": false,
   "title_cell": "Table of Contents",
   "title_sidebar": "Contents",
   "toc_cell": false,
   "toc_position": {},
   "toc_section_display": true,
   "toc_window_display": false
  }
 },
 "nbformat": 4,
 "nbformat_minor": 5
}
