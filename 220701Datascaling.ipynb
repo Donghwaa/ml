{
 "cells": [
  {
   "cell_type": "markdown",
   "id": "f320f58b",
   "metadata": {},
   "source": [
    "# Standard, Min-Max, Robust 비교"
   ]
  },
  {
   "cell_type": "code",
   "execution_count": 6,
   "id": "b1448f8f",
   "metadata": {
    "ExecuteTime": {
     "end_time": "2022-07-01T05:51:59.915516Z",
     "start_time": "2022-07-01T05:51:59.755333Z"
    }
   },
   "outputs": [],
   "source": [
    "import pandas as pd\n",
    "import numpy as np\n",
    "from sklearn.preprocessing import StandardScaler, MinMaxScaler, RobustScaler\n",
    "import matplotlib.pyplot as plt\n",
    "import seaborn as sns\n",
    "%matplotlib inline\n",
    "\n",
    "# data\n",
    "x = pd.DataFrame({\n",
    "    # Distribution with lower outliers\n",
    "    'x1': np.concatenate([np.random.normal(20, 2, 1000), np.random.normal(1, 2, 25)]),\n",
    "    # Distribution with higher outliers\n",
    "    'x2': np.concatenate([np.random.normal(30, 2, 1000), np.random.normal(50, 2, 25)]),\n",
    "})"
   ]
  },
  {
   "cell_type": "code",
   "execution_count": 29,
   "id": "5082d94e",
   "metadata": {
    "ExecuteTime": {
     "end_time": "2022-07-01T06:11:28.054545Z",
     "start_time": "2022-07-01T06:11:28.029939Z"
    }
   },
   "outputs": [],
   "source": [
    "scaler = StandardScaler()\n",
    "standard_df = scaler.fit_transform(x)\n",
    "standard_df = pd.DataFrame(standard_df, columns=['x1','x2'])"
   ]
  },
  {
   "cell_type": "code",
   "execution_count": 30,
   "id": "6b444930",
   "metadata": {
    "ExecuteTime": {
     "end_time": "2022-07-01T06:11:28.670751Z",
     "start_time": "2022-07-01T06:11:28.637376Z"
    }
   },
   "outputs": [
    {
     "data": {
      "text/html": [
       "<div>\n",
       "<style scoped>\n",
       "    .dataframe tbody tr th:only-of-type {\n",
       "        vertical-align: middle;\n",
       "    }\n",
       "\n",
       "    .dataframe tbody tr th {\n",
       "        vertical-align: top;\n",
       "    }\n",
       "\n",
       "    .dataframe thead th {\n",
       "        text-align: right;\n",
       "    }\n",
       "</style>\n",
       "<table border=\"1\" class=\"dataframe\">\n",
       "  <thead>\n",
       "    <tr style=\"text-align: right;\">\n",
       "      <th></th>\n",
       "      <th>x1</th>\n",
       "      <th>x2</th>\n",
       "    </tr>\n",
       "  </thead>\n",
       "  <tbody>\n",
       "    <tr>\n",
       "      <th>0</th>\n",
       "      <td>0.129674</td>\n",
       "      <td>-0.062974</td>\n",
       "    </tr>\n",
       "    <tr>\n",
       "      <th>1</th>\n",
       "      <td>-0.742318</td>\n",
       "      <td>-0.995040</td>\n",
       "    </tr>\n",
       "    <tr>\n",
       "      <th>2</th>\n",
       "      <td>0.007002</td>\n",
       "      <td>-0.558196</td>\n",
       "    </tr>\n",
       "    <tr>\n",
       "      <th>3</th>\n",
       "      <td>0.508737</td>\n",
       "      <td>-0.216996</td>\n",
       "    </tr>\n",
       "    <tr>\n",
       "      <th>4</th>\n",
       "      <td>0.785389</td>\n",
       "      <td>-0.118812</td>\n",
       "    </tr>\n",
       "    <tr>\n",
       "      <th>...</th>\n",
       "      <td>...</td>\n",
       "      <td>...</td>\n",
       "    </tr>\n",
       "    <tr>\n",
       "      <th>1020</th>\n",
       "      <td>-5.838969</td>\n",
       "      <td>5.033895</td>\n",
       "    </tr>\n",
       "    <tr>\n",
       "      <th>1021</th>\n",
       "      <td>-4.679642</td>\n",
       "      <td>4.652137</td>\n",
       "    </tr>\n",
       "    <tr>\n",
       "      <th>1022</th>\n",
       "      <td>-5.046155</td>\n",
       "      <td>6.040656</td>\n",
       "    </tr>\n",
       "    <tr>\n",
       "      <th>1023</th>\n",
       "      <td>-4.206495</td>\n",
       "      <td>5.570664</td>\n",
       "    </tr>\n",
       "    <tr>\n",
       "      <th>1024</th>\n",
       "      <td>-4.933209</td>\n",
       "      <td>4.769730</td>\n",
       "    </tr>\n",
       "  </tbody>\n",
       "</table>\n",
       "<p>1025 rows × 2 columns</p>\n",
       "</div>"
      ],
      "text/plain": [
       "            x1        x2\n",
       "0     0.129674 -0.062974\n",
       "1    -0.742318 -0.995040\n",
       "2     0.007002 -0.558196\n",
       "3     0.508737 -0.216996\n",
       "4     0.785389 -0.118812\n",
       "...        ...       ...\n",
       "1020 -5.838969  5.033895\n",
       "1021 -4.679642  4.652137\n",
       "1022 -5.046155  6.040656\n",
       "1023 -4.206495  5.570664\n",
       "1024 -4.933209  4.769730\n",
       "\n",
       "[1025 rows x 2 columns]"
      ]
     },
     "execution_count": 30,
     "metadata": {},
     "output_type": "execute_result"
    }
   ],
   "source": [
    "satandard_df"
   ]
  },
  {
   "cell_type": "code",
   "execution_count": 11,
   "id": "ae53e419",
   "metadata": {
    "ExecuteTime": {
     "end_time": "2022-07-01T05:55:27.151835Z",
     "start_time": "2022-07-01T05:55:27.135331Z"
    }
   },
   "outputs": [],
   "source": [
    "scaler = MinMaxScaler()\n",
    "minmax_df = scaler.fit_transform(x)\n",
    "minmax_df = pd.DataFrame(minmax_df, columns=['x1','x2'])"
   ]
  },
  {
   "cell_type": "code",
   "execution_count": 13,
   "id": "5c50075b",
   "metadata": {
    "ExecuteTime": {
     "end_time": "2022-07-01T05:56:47.904853Z",
     "start_time": "2022-07-01T05:56:47.870099Z"
    }
   },
   "outputs": [
    {
     "data": {
      "text/html": [
       "<div>\n",
       "<style scoped>\n",
       "    .dataframe tbody tr th:only-of-type {\n",
       "        vertical-align: middle;\n",
       "    }\n",
       "\n",
       "    .dataframe tbody tr th {\n",
       "        vertical-align: top;\n",
       "    }\n",
       "\n",
       "    .dataframe thead th {\n",
       "        text-align: right;\n",
       "    }\n",
       "</style>\n",
       "<table border=\"1\" class=\"dataframe\">\n",
       "  <thead>\n",
       "    <tr style=\"text-align: right;\">\n",
       "      <th></th>\n",
       "      <th>x1</th>\n",
       "      <th>x2</th>\n",
       "    </tr>\n",
       "  </thead>\n",
       "  <tbody>\n",
       "    <tr>\n",
       "      <th>0</th>\n",
       "      <td>0.778741</td>\n",
       "      <td>0.210940</td>\n",
       "    </tr>\n",
       "    <tr>\n",
       "      <th>1</th>\n",
       "      <td>0.671699</td>\n",
       "      <td>0.100205</td>\n",
       "    </tr>\n",
       "    <tr>\n",
       "      <th>2</th>\n",
       "      <td>0.763682</td>\n",
       "      <td>0.152105</td>\n",
       "    </tr>\n",
       "    <tr>\n",
       "      <th>3</th>\n",
       "      <td>0.825273</td>\n",
       "      <td>0.192641</td>\n",
       "    </tr>\n",
       "    <tr>\n",
       "      <th>4</th>\n",
       "      <td>0.859233</td>\n",
       "      <td>0.204306</td>\n",
       "    </tr>\n",
       "    <tr>\n",
       "      <th>...</th>\n",
       "      <td>...</td>\n",
       "      <td>...</td>\n",
       "    </tr>\n",
       "    <tr>\n",
       "      <th>1020</th>\n",
       "      <td>0.046057</td>\n",
       "      <td>0.816474</td>\n",
       "    </tr>\n",
       "    <tr>\n",
       "      <th>1021</th>\n",
       "      <td>0.188371</td>\n",
       "      <td>0.771119</td>\n",
       "    </tr>\n",
       "    <tr>\n",
       "      <th>1022</th>\n",
       "      <td>0.143380</td>\n",
       "      <td>0.936082</td>\n",
       "    </tr>\n",
       "    <tr>\n",
       "      <th>1023</th>\n",
       "      <td>0.246452</td>\n",
       "      <td>0.880244</td>\n",
       "    </tr>\n",
       "    <tr>\n",
       "      <th>1024</th>\n",
       "      <td>0.157244</td>\n",
       "      <td>0.785089</td>\n",
       "    </tr>\n",
       "  </tbody>\n",
       "</table>\n",
       "<p>1025 rows × 2 columns</p>\n",
       "</div>"
      ],
      "text/plain": [
       "            x1        x2\n",
       "0     0.778741  0.210940\n",
       "1     0.671699  0.100205\n",
       "2     0.763682  0.152105\n",
       "3     0.825273  0.192641\n",
       "4     0.859233  0.204306\n",
       "...        ...       ...\n",
       "1020  0.046057  0.816474\n",
       "1021  0.188371  0.771119\n",
       "1022  0.143380  0.936082\n",
       "1023  0.246452  0.880244\n",
       "1024  0.157244  0.785089\n",
       "\n",
       "[1025 rows x 2 columns]"
      ]
     },
     "execution_count": 13,
     "metadata": {},
     "output_type": "execute_result"
    }
   ],
   "source": [
    "minmax_df"
   ]
  },
  {
   "cell_type": "code",
   "execution_count": 12,
   "id": "f2cb573c",
   "metadata": {
    "ExecuteTime": {
     "end_time": "2022-07-01T05:56:36.078223Z",
     "start_time": "2022-07-01T05:56:36.035038Z"
    }
   },
   "outputs": [],
   "source": [
    "scaler = RobustScaler()\n",
    "robust_df = scaler.fit_transform(x)\n",
    "robust_df = pd.DataFrame(robust_df, columns=['x1','x2'])"
   ]
  },
  {
   "cell_type": "code",
   "execution_count": 14,
   "id": "0e82f985",
   "metadata": {
    "ExecuteTime": {
     "end_time": "2022-07-01T05:56:53.441035Z",
     "start_time": "2022-07-01T05:56:53.422917Z"
    }
   },
   "outputs": [
    {
     "data": {
      "text/html": [
       "<div>\n",
       "<style scoped>\n",
       "    .dataframe tbody tr th:only-of-type {\n",
       "        vertical-align: middle;\n",
       "    }\n",
       "\n",
       "    .dataframe tbody tr th {\n",
       "        vertical-align: top;\n",
       "    }\n",
       "\n",
       "    .dataframe thead th {\n",
       "        text-align: right;\n",
       "    }\n",
       "</style>\n",
       "<table border=\"1\" class=\"dataframe\">\n",
       "  <thead>\n",
       "    <tr style=\"text-align: right;\">\n",
       "      <th></th>\n",
       "      <th>x1</th>\n",
       "      <th>x2</th>\n",
       "    </tr>\n",
       "  </thead>\n",
       "  <tbody>\n",
       "    <tr>\n",
       "      <th>0</th>\n",
       "      <td>0.055372</td>\n",
       "      <td>0.061039</td>\n",
       "    </tr>\n",
       "    <tr>\n",
       "      <th>1</th>\n",
       "      <td>-1.079588</td>\n",
       "      <td>-1.155599</td>\n",
       "    </tr>\n",
       "    <tr>\n",
       "      <th>2</th>\n",
       "      <td>-0.104294</td>\n",
       "      <td>-0.585380</td>\n",
       "    </tr>\n",
       "    <tr>\n",
       "      <th>3</th>\n",
       "      <td>0.548750</td>\n",
       "      <td>-0.140008</td>\n",
       "    </tr>\n",
       "    <tr>\n",
       "      <th>4</th>\n",
       "      <td>0.908833</td>\n",
       "      <td>-0.011846</td>\n",
       "    </tr>\n",
       "    <tr>\n",
       "      <th>...</th>\n",
       "      <td>...</td>\n",
       "      <td>...</td>\n",
       "    </tr>\n",
       "    <tr>\n",
       "      <th>1020</th>\n",
       "      <td>-7.713244</td>\n",
       "      <td>6.714056</td>\n",
       "    </tr>\n",
       "    <tr>\n",
       "      <th>1021</th>\n",
       "      <td>-6.204297</td>\n",
       "      <td>6.215741</td>\n",
       "    </tr>\n",
       "    <tr>\n",
       "      <th>1022</th>\n",
       "      <td>-6.681340</td>\n",
       "      <td>8.028195</td>\n",
       "    </tr>\n",
       "    <tr>\n",
       "      <th>1023</th>\n",
       "      <td>-5.588462</td>\n",
       "      <td>7.414707</td>\n",
       "    </tr>\n",
       "    <tr>\n",
       "      <th>1024</th>\n",
       "      <td>-6.534332</td>\n",
       "      <td>6.369237</td>\n",
       "    </tr>\n",
       "  </tbody>\n",
       "</table>\n",
       "<p>1025 rows × 2 columns</p>\n",
       "</div>"
      ],
      "text/plain": [
       "            x1        x2\n",
       "0     0.055372  0.061039\n",
       "1    -1.079588 -1.155599\n",
       "2    -0.104294 -0.585380\n",
       "3     0.548750 -0.140008\n",
       "4     0.908833 -0.011846\n",
       "...        ...       ...\n",
       "1020 -7.713244  6.714056\n",
       "1021 -6.204297  6.215741\n",
       "1022 -6.681340  8.028195\n",
       "1023 -5.588462  7.414707\n",
       "1024 -6.534332  6.369237\n",
       "\n",
       "[1025 rows x 2 columns]"
      ]
     },
     "execution_count": 14,
     "metadata": {},
     "output_type": "execute_result"
    }
   ],
   "source": [
    "robust_df"
   ]
  },
  {
   "cell_type": "code",
   "execution_count": 32,
   "id": "d4bc9a61",
   "metadata": {
    "ExecuteTime": {
     "end_time": "2022-07-01T06:14:04.302606Z",
     "start_time": "2022-07-01T06:14:02.674744Z"
    }
   },
   "outputs": [
    {
     "data": {
      "image/png": "[encoded data removed]",
      "text/plain": [
       "<Figure size 1440x360 with 4 Axes>"
      ]
     },
     "metadata": {
      "needs_background": "light"
     },
     "output_type": "display_data"
    }
   ],
   "source": [
    "fig, (ax1, ax2, ax3, ax4) = plt.subplots(ncols=4, figsize=(20,5))\n",
    "ax1.set_title('Before Scaling')\n",
    "sns.kdeplot(x['x1'], ax = ax1, color = 'r')\n",
    "sns.kdeplot(x['x2'], ax = ax1, color = 'b')\n",
    "\n",
    "ax2.set_title('Standard Scaling')\n",
    "sns.kdeplot(standard_dfa['x1'], ax = ax2, color = 'r')\n",
    "sns.kdeplot(standard_df['x2'], ax = ax2, color = 'b')\n",
    "\n",
    "ax3.set_title('MinMax Scaling')\n",
    "sns.kdeplot(minmax_df['x1'], ax = ax3, color = 'r')\n",
    "sns.kdeplot(minmax_df['x2'], ax = ax3, color = 'b')\n",
    "\n",
    "ax4.set_title('Robust Scaling')\n",
    "sns.kdeplot(robust_df['x1'], ax = ax4, color = 'r')\n",
    "sns.kdeplot(robust_df['x2'], ax = ax4, color = 'b')\n",
    "plt.show()\n",
    "\n",
    "# Robust Scaling을 사용하면 변환되 값들이 최적이다."
   ]
  },
  {
   "cell_type": "code",
   "execution_count": null,
   "id": "7cd79dd9",
   "metadata": {},
   "outputs": [],
   "source": []
  }
 ],
 "metadata": {
  "kernelspec": {
   "display_name": "Python 3 (ipykernel)",
   "language": "python",
   "name": "python3"
  },
  "language_info": {
   "codemirror_mode": {
    "name": "ipython",
    "version": 3
   },
   "file_extension": ".py",
   "mimetype": "text/x-python",
   "name": "python",
   "nbconvert_exporter": "python",
   "pygments_lexer": "ipython3",
   "version": "3.9.12"
  },
  "toc": {
   "base_numbering": 1,
   "nav_menu": {},
   "number_sections": true,
   "sideBar": true,
   "skip_h1_title": false,
   "title_cell": "Table of Contents",
   "title_sidebar": "Contents",
   "toc_cell": false,
   "toc_position": {},
   "toc_section_display": true,
   "toc_window_display": false
  }
 },
 "nbformat": 4,
 "nbformat_minor": 5
}
